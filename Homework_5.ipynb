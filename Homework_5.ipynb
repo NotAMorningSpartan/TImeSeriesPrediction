{
  "nbformat": 4,
  "nbformat_minor": 0,
  "metadata": {
    "colab": {
      "name": "Homework_5.ipynb",
      "provenance": []
    },
    "kernelspec": {
      "name": "python3",
      "display_name": "Python 3"
    }
  },
  "cells": [
    {
      "cell_type": "markdown",
      "metadata": {
        "id": "K-YSrDyOJYd4"
      },
      "source": [
        "# Homework 5: Predict Time Series\n",
        "Applied Neural Networks"
      ]
    },
    {
      "cell_type": "markdown",
      "metadata": {
        "id": "SSW_ANJOxg81"
      },
      "source": [
        "**Part 1**</br>\n",
        "Generate a time series dataset (10000 series with 100 points each). Build these from two sine waves and noise, similar to what we did in class, HOWEVER instead of adding the two sine waves together you will MULTIPLY them, each weighted the same (and then add noise). This will create an oscillating signal of the shorter wavelength sine with an overlaid oscillating \"envelope\" from the larger wavelength sine. <br/>\n",
        "Graph several example series."
      ]
    },
    {
      "cell_type": "code",
      "metadata": {
        "id": "oSOWoiG5Lglq"
      },
      "source": [
        ""
      ],
      "execution_count": null,
      "outputs": []
    },
    {
      "cell_type": "markdown",
      "metadata": {
        "id": "fR_zVdc9Lg1B"
      },
      "source": [
        "**Part 2** </br>\n",
        "Predict the 81st point.<br/>\n",
        "Use the first 80 points for training. Create training, validation, and testing sets. Utilize an RNN (obviously).</br>\n",
        "Give your testing and validation accuracies, and graph a couple series (including prediction and actual 81st points).\n"
      ]
    },
    {
      "cell_type": "code",
      "metadata": {
        "id": "XFuNMMA0LhHL"
      },
      "source": [
        ""
      ],
      "execution_count": null,
      "outputs": []
    },
    {
      "cell_type": "markdown",
      "metadata": {
        "id": "5by7oX8tLhRs"
      },
      "source": [
        "**Part 3** </br>\n",
        "Predict the 81-90th points.</br>\n",
        "Use the first 80 points for training. Create training, validation, and testing sets. Create at least one sequence-to-vector RNN and one sequence-to-sequence RNN and compare their results.<br/>\n",
        "Give your testing and validation accuracies, and graph a couple series (including prediction and actual 81-90th points) for both RNNs."
      ]
    },
    {
      "cell_type": "code",
      "metadata": {
        "id": "USWaH9wpLhbk"
      },
      "source": [
        ""
      ],
      "execution_count": null,
      "outputs": []
    },
    {
      "cell_type": "markdown",
      "metadata": {
        "id": "N9Giq-h6Ns6r"
      },
      "source": [
        "**Part 4**</br>\n",
        "Discuss your findings."
      ]
    },
    {
      "cell_type": "code",
      "metadata": {
        "id": "LypNHLkLNtHg"
      },
      "source": [
        ""
      ],
      "execution_count": null,
      "outputs": []
    }
  ]
}